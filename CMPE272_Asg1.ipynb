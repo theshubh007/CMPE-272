{
  "nbformat": 4,
  "nbformat_minor": 0,
  "metadata": {
    "colab": {
      "provenance": []
    },
    "kernelspec": {
      "name": "python3",
      "display_name": "Python 3"
    },
    "language_info": {
      "name": "python"
    }
  },
  "cells": [
    {
      "cell_type": "code",
      "execution_count": 1,
      "metadata": {
        "colab": {
          "base_uri": "https://localhost:8080/",
          "height": 0
        },
        "id": "ylXa3R7VYptI",
        "outputId": "572d0cde-4524-4b9f-8c19-b4cf0b4d088f"
      },
      "outputs": [
        {
          "output_type": "stream",
          "name": "stdout",
          "text": [
            "Requirement already satisfied: textblob in /usr/local/lib/python3.10/dist-packages (0.17.1)\n",
            "Requirement already satisfied: pandas in /usr/local/lib/python3.10/dist-packages (2.1.4)\n",
            "Requirement already satisfied: nltk>=3.1 in /usr/local/lib/python3.10/dist-packages (from textblob) (3.8.1)\n",
            "Requirement already satisfied: numpy<2,>=1.22.4 in /usr/local/lib/python3.10/dist-packages (from pandas) (1.26.4)\n",
            "Requirement already satisfied: python-dateutil>=2.8.2 in /usr/local/lib/python3.10/dist-packages (from pandas) (2.8.2)\n",
            "Requirement already satisfied: pytz>=2020.1 in /usr/local/lib/python3.10/dist-packages (from pandas) (2024.1)\n",
            "Requirement already satisfied: tzdata>=2022.1 in /usr/local/lib/python3.10/dist-packages (from pandas) (2024.1)\n",
            "Requirement already satisfied: click in /usr/local/lib/python3.10/dist-packages (from nltk>=3.1->textblob) (8.1.7)\n",
            "Requirement already satisfied: joblib in /usr/local/lib/python3.10/dist-packages (from nltk>=3.1->textblob) (1.4.2)\n",
            "Requirement already satisfied: regex>=2021.8.3 in /usr/local/lib/python3.10/dist-packages (from nltk>=3.1->textblob) (2024.5.15)\n",
            "Requirement already satisfied: tqdm in /usr/local/lib/python3.10/dist-packages (from nltk>=3.1->textblob) (4.66.5)\n",
            "Requirement already satisfied: six>=1.5 in /usr/local/lib/python3.10/dist-packages (from python-dateutil>=2.8.2->pandas) (1.16.0)\n"
          ]
        }
      ],
      "source": [
        "pip install textblob pandas\n"
      ]
    },
    {
      "cell_type": "code",
      "source": [
        "from textblob import TextBlob\n",
        "import pandas as pd\n",
        "\n",
        "def analyze_sentiment(text):\n",
        "    \"\"\"\n",
        "    Analyze sentiment of the given text and return 'Positive', 'Negative', or 'Neutral'.\n",
        "    \"\"\"\n",
        "    # Create a TextBlob object\n",
        "    blob = TextBlob(str(text))\n",
        "    # Determine the polarity of the text\n",
        "    polarity = blob.sentiment.polarity\n",
        "\n",
        "    # Classify sentiment based on polarity\n",
        "    if polarity > 0.05:\n",
        "        return 'Positive'\n",
        "    elif polarity < -0.05:\n",
        "        return 'Negative'\n",
        "    else:\n",
        "        return 'Neutral'\n",
        "\n",
        "\n",
        "# Function to process the CSV and classify sentiments\n",
        "def process_csv(file_path):\n",
        "    \"\"\"\n",
        "    Read a CSV file, classify sentiment for each tweet, and add a new column for the results.\n",
        "    \"\"\"\n",
        "    # Load CSV file with the correct delimiter (assuming it's a tab-separated file)\n",
        "    df = pd.read_csv(file_path,  header=None, encoding='latin-1')\n",
        "\n",
        "    # Rename columns, ensuring the number of names matches the number of columns in the DataFrame\n",
        "    df.columns = ['Polarity', 'ID', 'Date', 'Query', 'Username', 'Text',]\n",
        "\n",
        "    # Create a new column for predicted sentiments\n",
        "    df['Predicted Sentiment'] = df['Text'].apply(analyze_sentiment)\n",
        "\n",
        "    # Print the top 5 rows to verify\n",
        "    print(\"Printing Top 5 Rows of dataset\")\n",
        "    print(df.head(5))\n",
        "\n",
        "    # Save the updated DataFrame with sentiments back to a CSV file\n",
        "    df.to_csv('sentiments_with_analysis.csv', index=False)\n",
        "\n",
        "# Running the test cases\n",
        "print(\"Custom Testing:\")\n",
        "# Testing the analyze_sentiment function with different cases\n",
        "test_texts = [\n",
        "    \"I love this! It's amazing.\",\n",
        "    \"I hate this so much. It's terrible.\",\n",
        "    \"This is neither good nor bad.\"\n",
        "]\n",
        "\n",
        "# Print the results of the tests\n",
        "for text in test_texts:\n",
        "    print(f\"Text: {text} -> Sentiment: {analyze_sentiment(text)}\")\n",
        "\n",
        "# Process sentiments from the CSV file\n",
        "csv_file_path = '/content/sentiments.csv'\n",
        "process_csv(csv_file_path)\n"
      ],
      "metadata": {
        "colab": {
          "base_uri": "https://localhost:8080/",
          "height": 0
        },
        "id": "Sn1OF_xjY3LO",
        "outputId": "80abaa01-dca8-492a-c84f-ef264dfcc7a3"
      },
      "execution_count": 23,
      "outputs": [
        {
          "output_type": "stream",
          "name": "stdout",
          "text": [
            "Custom Testing:\n",
            "Text: I love this! It's amazing. -> Sentiment: Positive\n",
            "Text: I hate this so much. It's terrible. -> Sentiment: Negative\n",
            "Text: This is neither good nor bad. -> Sentiment: Neutral\n",
            "Printing Top 5 Rows of dataset\n",
            "                 Polarity               ID                          Date  \\\n",
            "0  ï»¿polarity of tweetÂ   id of the tweet             date of the tweet   \n",
            "1                       0       1467810672  Mon Apr 06 22:19:49 PDT 2009   \n",
            "2                       0       1467810917  Mon Apr 06 22:19:53 PDT 2009   \n",
            "3                       0       1467811184  Mon Apr 06 22:19:57 PDT 2009   \n",
            "4                       0       1467811193  Mon Apr 06 22:19:57 PDT 2009   \n",
            "\n",
            "      Query       Username                                               Text  \\\n",
            "0     query           user                                text of the tweetÂ    \n",
            "1  NO_QUERY  scotthamilton  is upset that he can't update his Facebook by ...   \n",
            "2  NO_QUERY       mattycus  @Kenichan I dived many times for the ball. Man...   \n",
            "3  NO_QUERY        ElleCTF    my whole body feels itchy and like its on fire    \n",
            "4  NO_QUERY         Karoli  @nationwideclass no, it's not behaving at all....   \n",
            "\n",
            "  Predicted Sentiment  \n",
            "0             Neutral  \n",
            "1             Neutral  \n",
            "2            Positive  \n",
            "3            Positive  \n",
            "4            Negative  \n"
          ]
        }
      ]
    },
    {
      "cell_type": "code",
      "source": [],
      "metadata": {
        "id": "2ZfQRAOjd3Aw"
      },
      "execution_count": null,
      "outputs": []
    }
  ]
}